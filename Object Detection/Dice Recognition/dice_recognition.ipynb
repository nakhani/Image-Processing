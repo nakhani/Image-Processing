{
 "cells": [
  {
   "cell_type": "code",
   "execution_count": 152,
   "metadata": {},
   "outputs": [],
   "source": [
    "import cv2\n",
    "import numpy as np\n",
    "import matplotlib.pyplot as plt"
   ]
  },
  {
   "cell_type": "code",
   "execution_count": 154,
   "metadata": {},
   "outputs": [
    {
     "name": "stdout",
     "output_type": "stream",
     "text": [
      "[]\n"
     ]
    }
   ],
   "source": [
    "\n",
    "def dots_detect(image, threshold, dice_size, point_size):\n",
    "    # Apply binary threshold\n",
    "    _, binary_image = cv2.threshold(image, threshold, 255, cv2.THRESH_BINARY)\n",
    "\n",
    "    # Find contours\n",
    "    contours, hierarchy = cv2.findContours(binary_image, cv2.RETR_TREE, cv2.CHAIN_APPROX_SIMPLE)\n",
    "\n",
    "    # List to store dice and their respective point counts\n",
    "    dices = []\n",
    "\n",
    "    for idx, contour in enumerate(contours):\n",
    "        sub_hierarchy = hierarchy[0][idx]\n",
    "        area = cv2.contourArea(contour)\n",
    "        parent_idx = sub_hierarchy[3]\n",
    "        if area > dice_size:\n",
    "            # Identify as a dice and add to the list with initial point count 0\n",
    "            dices.append([parent_idx, 0])\n",
    "        elif area > point_size:\n",
    "            # Identify as a point within a dice\n",
    "            for dice in dices:\n",
    "                if dice[0] == parent_idx:\n",
    "                    dice[1] += 1\n",
    "\n",
    "    # Filter out dices with no points\n",
    "    dices = [dice for dice in dices if dice[1] > 0]\n",
    "\n",
    "    # Print and return the dice points\n",
    "    for idx, dice in enumerate(dices):\n",
    "     print(f'Dice {idx + 1}: {dice[1]}')\n",
    "\n",
    "    return dices\n",
    "\n",
    "# Example usage:\n",
    "# Load image in grayscale\n",
    "image = cv2.imread('image-_2_.png', cv2.IMREAD_GRAYSCALE)\n",
    "\n",
    "# Detect dots\n",
    "detected_dots = dots_detect(image,128, 500, 50)\n",
    "print(detected_dots)\n"
   ]
  }
 ],
 "metadata": {
  "kernelspec": {
   "display_name": "Python 3",
   "language": "python",
   "name": "python3"
  },
  "language_info": {
   "codemirror_mode": {
    "name": "ipython",
    "version": 3
   },
   "file_extension": ".py",
   "mimetype": "text/x-python",
   "name": "python",
   "nbconvert_exporter": "python",
   "pygments_lexer": "ipython3",
   "version": "3.9.7"
  }
 },
 "nbformat": 4,
 "nbformat_minor": 2
}
